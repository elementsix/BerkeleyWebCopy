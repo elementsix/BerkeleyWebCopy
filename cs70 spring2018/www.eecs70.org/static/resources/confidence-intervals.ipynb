{
 "cells": [
  {
   "cell_type": "markdown",
   "metadata": {},
   "source": [
    "# Confidence Intervals\n",
    "\n",
    "Today, I will attempt to demystify confidence intervals by relating the concepts we learned to actual data.\n",
    "\n",
    "Suppose we are interested in the proportion $p$ of the population that exercises regularly. We do not know what the true value of $p$ is."
   ]
  },
  {
   "cell_type": "code",
   "execution_count": 6,
   "metadata": {
    "collapsed": false
   },
   "outputs": [],
   "source": [
    "import numpy as np\n",
    "import random\n",
    "\n",
    "p = 0.3 + 0.4 * random.random()"
   ]
  },
  {
   "cell_type": "markdown",
   "metadata": {},
   "source": [
    "We are going to generate a sample of $n=30$ people, which we will call $S$.\n",
    "\n",
    "$\\hat{p}$ is the proportion of people in our sample who exercise regularly, and although $\\hat{p}$ will not be the same as the population proportion $p$, we will use $\\hat{p}$ as an estimator of $p$. Here, we produce a sample and calculate $\\hat{p}$ for the sample:"
   ]
  },
  {
   "cell_type": "code",
   "execution_count": 7,
   "metadata": {
    "collapsed": false
   },
   "outputs": [
    {
     "name": "stdout",
     "output_type": "stream",
     "text": [
      "Our sample:\n",
      "[0, 1, 0, 0, 1, 0, 1, 1, 0, 0, 1, 0, 0, 1, 1, 0, 1, 1, 1, 0, 1, 1, 1, 0, 1, 1, 1, 0, 1, 1]\n",
      "\n",
      "Number of people who exercise regularly:\n",
      "18\n",
      "\n",
      "Proportion of people who exercise regularly:\n",
      "0.6\n"
     ]
    }
   ],
   "source": [
    "# Number of people in our sample.\n",
    "n = 30\n",
    "\n",
    "# Generate the sample.\n",
    "s = [1 if random.random() < p else 0 for _ in range(n)]\n",
    "print(\"Our sample:\")\n",
    "print(s)\n",
    "print()\n",
    "\n",
    "# This is the number of people who exercise regularly (in our sample).\n",
    "print(\"Number of people who exercise regularly:\")\n",
    "print(sum(s))\n",
    "print()\n",
    "\n",
    "# This is the proportion of people who exercise regularly (in our sample).\n",
    "print(\"Proportion of people who exercise regularly:\")\n",
    "print(sum(s) / n)"
   ]
  },
  {
   "cell_type": "markdown",
   "metadata": {},
   "source": [
    "## Question 1\n",
    "\n",
    "Now, if we are going to use $\\hat{p}$ as an estimator of $p$, then we want $\\mathbb{E}[\\hat{p}] = p$. Prove that $\\mathbb{E}[\\hat{p}] = p$.\n",
    "\n",
    "Let's check if this is true by generating many samples, just like $S$."
   ]
  },
  {
   "cell_type": "code",
   "execution_count": 8,
   "metadata": {
    "collapsed": false
   },
   "outputs": [
    {
     "name": "stdout",
     "output_type": "stream",
     "text": [
      "The difference between the average of the p_hat values and p was:\n",
      "0.000731287906244\n"
     ]
    }
   ],
   "source": [
    "# Number of samples generated.\n",
    "N = 10000\n",
    "\n",
    "# Generate the samples.\n",
    "samples = [\n",
    "    [1 if random.random() < p else 0 for _ in range(n)] for _ in range(N)\n",
    "]\n",
    "\n",
    "# Calculate the average value of p_hat.\n",
    "p_hat_values = [sum(sample) / n for sample in samples]\n",
    "avg_p_hat = np.mean(p_hat_values)\n",
    "print(\"The difference between the average of the p_hat values and p was:\")\n",
    "print(abs(avg_p_hat - p))"
   ]
  },
  {
   "cell_type": "markdown",
   "metadata": {},
   "source": [
    "## Question 2\n",
    "\n",
    "We can see that $\\hat{p}$ is an unbiased estimator of $p$.\n",
    "\n",
    "Calculate $\\operatorname{var} \\hat{p}$.\n",
    "\n",
    "## Answer 2\n",
    "\n",
    "Let $X_i$ be the indicator that the $i$th person in a sample exercises regularly. Then, $\\operatorname{var}\\hat{X_i} = p(1-p)$ and we have\n",
    "$$ \\operatorname{var}\\hat{p} = \\operatorname{var}\\left(\\frac{X_1 + \\cdots + X_n}{n}\\right) = \\frac{np(1-p)}{n^2} = \\frac{p(1-p)}{n}. $$"
   ]
  },
  {
   "cell_type": "markdown",
   "metadata": {},
   "source": [
    "We can now plot the $\\textit{sampling distribution}$ of $\\hat{p}$, that is, the probability distribution of $\\hat{p}$, using the samples we have gathered."
   ]
  },
  {
   "cell_type": "code",
   "execution_count": 9,
   "metadata": {
    "collapsed": false
   },
   "outputs": [
    {
     "data": {
      "image/png": "[encoded data removed]",
      "text/plain": [
       "<matplotlib.figure.Figure at 0x10a5662e8>"
      ]
     },
     "metadata": {},
     "output_type": "display_data"
    }
   ],
   "source": [
    "%matplotlib inline\n",
    "import matplotlib.pyplot as plt\n",
    "\n",
    "n, bins, patches = plt.hist(p_hat_values, 10, facecolor=\"blue\")\n",
    "plt.xlabel(r\"$\\hat{p}$\")\n",
    "plt.ylabel(\"Number of Samples\")\n",
    "plt.title(r\"Sampling Distribution of $\\hat{p}$\")\n",
    "plt.show()"
   ]
  },
  {
   "cell_type": "markdown",
   "metadata": {},
   "source": [
    "## Question 3\n",
    "\n",
    "The sampling distribution is centered around $p$, as we have already seen.\n",
    "\n",
    "Now, we use Chebyshev's Inequality to construct some confidence intervals. Suppose we want a tolerance of $10\\%$, that is, we would like $\\hat{p}$ to be within $\\pm 10\\%$ of the true value $p$.\n",
    "\n",
    "What is a lower bound on the probability that a confidence interval captures the true parameter $p$? Use Chebyshev's inequality.\n",
    "\n",
    "## Answer 3\n",
    "\n",
    "We compute\n",
    "$$ \\mathbb{P}(|\\hat{p} - p| \\geq 0.1) \\leq \\frac{\\operatorname{var}\\hat{p}}{0.1^2} = \\frac{p(1-p)}{0.01 n}. $$\n",
    "\n",
    "Since $p(1-p) \\leq 1/4$, setting $n=30$ means that we expect\n",
    "$$ \\mathbb{P}(|\\hat{p} - p| \\geq 0.1) \\leq \\frac{1}{4 \\cdot 0.01 \\cdot 30} = 0.833. $$\n",
    "\n",
    "Flipping the inequality around shows that\n",
    "$$ \\mathbb{P}(|\\hat{p} - p| \\leq 0.1) \\geq 1-0.833 = 0.167. $$\n",
    "\n",
    "What this means: for each of the $10000$ samples we generated, we calculate $\\hat{p}$. Then, we construct the interval $(\\hat{p} - 0.1, \\hat{p} + 0.1)$ for each sample, and we expect at least a fraction $0.167$ of the confidence intervals to contain the true population parameter $p$. Actually, since we used Chebyshev's Inequality, which is just a bound, we expect many more of the confidence intervals to contain $p$."
   ]
  },
  {
   "cell_type": "code",
   "execution_count": 10,
   "metadata": {
    "collapsed": false
   },
   "outputs": [
    {
     "name": "stdout",
     "output_type": "stream",
     "text": [
      "The fraction of confidence intervals that contain p is:\n",
      "0.7258\n"
     ]
    }
   ],
   "source": [
    "# How many of the confidence intervals contain p?\n",
    "ci_containing_p = [\n",
    "    1 if p_hat - 0.1 < p < p_hat + 0.1 else 0 for p_hat in p_hat_values\n",
    "]\n",
    "num_ci_containing_p = sum(ci_containing_p)\n",
    "fraction_ci_containing_p = num_ci_containing_p / N\n",
    "print(\"The fraction of confidence intervals that contain p is:\")\n",
    "print(fraction_ci_containing_p)"
   ]
  },
  {
   "cell_type": "markdown",
   "metadata": {},
   "source": [
    "Clearly Chebyshev's Inequality is a very weak bound! With the CLT, we can derive a much better approximation."
   ]
  },
  {
   "cell_type": "markdown",
   "metadata": {},
   "source": [
    "# Central Limit Theorem\n",
    "\n",
    "## Question 4\n",
    "\n",
    "Using the CLT, approximate the probability that a confidence interval captures $p$.\n",
    "\n",
    "## Answer 4\n",
    "\n",
    "The number of samples we have, $30$, is large enough that we expect\n",
    "$$\n",
    "\\frac{\\sqrt{n} (\\hat{p} - p)}{\\sqrt{p(1-p)}} \\sim \\mathcal{N}(0, 1).\n",
    "$$\n",
    "Again, with the estimate $p(1-p) \\leq 1/4$, the standard deviation is bounded by $(1/2)/\\sqrt{n}$. Hence,\n",
    "\\begin{align*}\n",
    "\\mathbb{P}\\!\\left( |\\hat{p} - p| \\geq 0.1\\right) &\\leq \\mathbb{P}\\!\\left( \\frac{\\sqrt{n}|\\hat{p} - p|}{1/2} \\geq 2 \\cdot 0.1 \\cdot \\sqrt{n} \\right) \\\\\n",
    "%\\intertext{We evaluate $4 \\cdot 0.1 \\cdot \\sqrt{n} \\approx 1.1$, so}\n",
    "&\\approx 2\\Phi(-2 \\cdot 0.1 \\cdot \\sqrt{30}) = 2\\Phi(-1.1) = 0.273.\n",
    "\\end{align*}\n",
    "The probability that $p$ is captured by one of our confidence intervals is\n",
    "$$\n",
    "\\mathbb{P}\\!\\left( |\\hat{p} - p| \\geq 0.1\\right) \\approx 1 - 0.273 = 0.727.\n",
    "$$\n",
    "This number agrees very closely with our experiments, indicating that the CLT is a very good approximation here!"
   ]
  },
  {
   "cell_type": "code",
   "execution_count": null,
   "metadata": {
    "collapsed": true
   },
   "outputs": [],
   "source": []
  }
 ],
 "metadata": {
  "kernelspec": {
   "display_name": "Python 3",
   "language": "python",
   "name": "python3"
  },
  "language_info": {
   "codemirror_mode": {
    "name": "ipython",
    "version": 3
   },
   "file_extension": ".py",
   "mimetype": "text/x-python",
   "name": "python",
   "nbconvert_exporter": "python",
   "pygments_lexer": "ipython3",
   "version": "3.5.1"
  }
 },
 "nbformat": 4,
 "nbformat_minor": 0
}
